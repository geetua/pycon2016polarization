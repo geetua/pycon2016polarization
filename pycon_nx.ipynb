{
 "cells": [
  {
   "cell_type": "code",
   "execution_count": 1,
   "metadata": {
    "collapsed": true,
    "slideshow": {
     "slide_type": "skip"
    }
   },
   "outputs": [],
   "source": [
    "%matplotlib inline"
   ]
  },
  {
   "cell_type": "markdown",
   "metadata": {
    "slideshow": {
     "slide_type": "slide"
    }
   },
   "source": [
    "<img style=\"float: right;\", src='img/cover.jpg'/>\n",
    "\n",
    "# visualizing discussions on twitter with networkx\n",
    "\n",
    "kiran garimella, aalto university\n",
    "\n",
    "michael mathioudakis, aalto university\n",
    "\n",
    "\n"
   ]
  },
  {
   "cell_type": "markdown",
   "metadata": {
    "slideshow": {
     "slide_type": "slide"
    }
   },
   "source": [
    "## social media\n",
    "<img style='float: right; height:300px;' src='img/social_media.jpg'/>\n",
    "#### users generate digital content\n",
    "status updates, blog posts, pictures, videos, reviews, ...\n",
    "#### users interact\n",
    "comments, likes, ratings, re-posts\n",
    "#### digital traces\n",
    "we can observe human interactions at global scale"
   ]
  },
  {
   "cell_type": "markdown",
   "metadata": {
    "slideshow": {
     "slide_type": "slide"
    }
   },
   "source": [
    "<img style='float:right; width: 250px' src='img/twitter_logo.png'/>\n",
    "## twitter\n",
    "\n",
    "#### microblogging platform\n",
    "users post short messages, '__tweets__'\n",
    "\n",
    "#### since 2006, 300m + active users\n",
    "\n",
    "#### tweets, retweets, replies"
   ]
  },
  {
   "cell_type": "markdown",
   "metadata": {
    "slideshow": {
     "slide_type": "notes"
    }
   },
   "source": [
    "show examples of real tweets, retweets, and replies"
   ]
  },
  {
   "cell_type": "markdown",
   "metadata": {
    "slideshow": {
     "slide_type": "slide"
    }
   },
   "source": [
    "<img style='float:left; width:250px;' src='img/trump_tweet.png'>\n",
    "<img style='float:left; width:250px;' src='img/greenwald_tweet.png'>\n",
    "<img style='float:left; width:250px;' src='img/leme_tweet.png'>"
   ]
  },
  {
   "cell_type": "markdown",
   "metadata": {
    "slideshow": {
     "slide_type": "fragment"
    }
   },
   "source": [
    "these are specific examples\n",
    "\n",
    "can we learn something from the stucture of people's interactions?"
   ]
  },
  {
   "cell_type": "markdown",
   "metadata": {
    "slideshow": {
     "slide_type": "subslide"
    }
   },
   "source": [
    "we'll do that by visualizing __graphs__"
   ]
  },
  {
   "cell_type": "markdown",
   "metadata": {
    "slideshow": {
     "slide_type": "fragment"
    }
   },
   "source": [
    "graphs?"
   ]
  },
  {
   "cell_type": "markdown",
   "metadata": {
    "slideshow": {
     "slide_type": "slide"
    }
   },
   "source": [
    "<img style='float: right; width: 350px' src='img/generic_graph.png'/>\n",
    "\n",
    "## graphs!\n",
    "\n",
    "\n",
    "\n",
    "#### what is a graph?\n",
    "\n",
    "data structure\n",
    "\n",
    "two types of elements: nodes and edges"
   ]
  },
  {
   "cell_type": "markdown",
   "metadata": {
    "slideshow": {
     "slide_type": "notes"
    }
   },
   "source": [
    "__todo__ include an example of a very simple social network"
   ]
  },
  {
   "cell_type": "markdown",
   "metadata": {
    "slideshow": {
     "slide_type": "subslide"
    }
   },
   "source": [
    "#### what are graphs used for?\n",
    "represent social connections between people ...\n",
    "\n",
    "<img style='float: left; width: 350px' src='img/example_friends.png'/>"
   ]
  },
  {
   "cell_type": "markdown",
   "metadata": {
    "slideshow": {
     "slide_type": "subslide"
    }
   },
   "source": [
    "... or represent networks\n",
    "e.g., road networks, computer networks\n",
    "\n",
    "<img style='float: left; width: 350px' src='img/road_network.png'/>"
   ]
  },
  {
   "cell_type": "markdown",
   "metadata": {
    "slideshow": {
     "slide_type": "subslide"
    }
   },
   "source": [
    "### terminology\n",
    "\n",
    "_graph_ vs _network_"
   ]
  },
  {
   "cell_type": "markdown",
   "metadata": {
    "slideshow": {
     "slide_type": "slide"
    }
   },
   "source": [
    "## graphs with networkx\n",
    "\n",
    "python library\n",
    "\n",
    "create, process, visualize graphs\n",
    "\n",
    "development started in 2004\n",
    "\n",
    "mainly developed in 2014"
   ]
  },
  {
   "cell_type": "markdown",
   "metadata": {
    "slideshow": {
     "slide_type": "slide"
    }
   },
   "source": [
    "## building a graph"
   ]
  },
  {
   "cell_type": "markdown",
   "metadata": {},
   "source": [
    "<img style='float: right; width: 400px' src='img/example_friends.png'/>\n",
    "\n",
    "let's build earlier example"
   ]
  },
  {
   "cell_type": "markdown",
   "metadata": {
    "slideshow": {
     "slide_type": "subslide"
    }
   },
   "source": [
    "<img style='float: right; height: 200px;' src='img/example_friends.png'/>"
   ]
  },
  {
   "cell_type": "code",
   "execution_count": 2,
   "metadata": {
    "collapsed": false,
    "slideshow": {
     "slide_type": "-"
    }
   },
   "outputs": [],
   "source": [
    "import networkx as nx\n",
    "\n",
    "# initialize\n",
    "graph = nx.Graph()\n",
    "\n",
    "people = ['jere', 'ella', 'miika', 'anniina', 'mikko', 'olli', 'laura', 'maria']\n",
    "connections = [('jere', 'ella'), ('ella', 'anniina'), ('ella', 'miika'),\n",
    "               ('mikko', 'ella'), ('anniina', 'mikko'), ('laura', 'jere'),\n",
    "               ('olli', 'jere'), ('jere', 'maria'), ('miika', 'mikko'),\n",
    "               ('maria', 'laura'), ('olli', 'laura')]\n",
    "\n",
    "# add all nodes\n",
    "for node in people:\n",
    "    graph.add_node(node)\n",
    "\n",
    "# add all edges\n",
    "for node_a, node_b in connections:\n",
    "    graph.add_edge(node_a, node_b)\n"
   ]
  },
  {
   "cell_type": "markdown",
   "metadata": {
    "slideshow": {
     "slide_type": "slide"
    }
   },
   "source": [
    "## visualizing a graph"
   ]
  },
  {
   "cell_type": "code",
   "execution_count": 3,
   "metadata": {
    "collapsed": true,
    "slideshow": {
     "slide_type": "skip"
    }
   },
   "outputs": [],
   "source": [
    "def get_pyplot_ax(rows = 1, columns = 1, figsize = (7, 7)):\n",
    "    \"\"\" helper function \"\"\"\n",
    "    \n",
    "    import matplotlib.pyplot as plt\n",
    "    \n",
    "    fig, ax = plt.subplots(rows, columns, figsize = figsize)\n",
    "    \n",
    "    if rows == 1 and columns == 1:\n",
    "        ax.axis('off')\n",
    "    elif rows == 1 or columns == 1:\n",
    "        for subax in ax:\n",
    "            subax.axis('off')\n",
    "    elif rows > 1 or columns > 1:\n",
    "        for i in range(rows):\n",
    "            for j in range(columns):\n",
    "                ax[i][j].axis('off')\n",
    "        \n",
    "    return fig, ax"
   ]
  },
  {
   "cell_type": "code",
   "execution_count": 4,
   "metadata": {
    "collapsed": false,
    "slideshow": {
     "slide_type": "subslide"
    }
   },
   "outputs": [
    {
     "data": {
      "image/png": "[encoded data removed]",
      "text/plain": [
       "<matplotlib.figure.Figure at 0x10bb3e2e8>"
      ]
     },
     "metadata": {},
     "output_type": "display_data"
    }
   ],
   "source": [
    "fig, ax = get_pyplot_ax()\n",
    "\n",
    "nx.draw_networkx(graph, ax = ax, node_size = 2300, node_color = 'white')\n",
    "\n",
    "fig.savefig('img/example_friends.png', dpi = 300)"
   ]
  },
  {
   "cell_type": "code",
   "execution_count": 5,
   "metadata": {
    "collapsed": false,
    "slideshow": {
     "slide_type": "skip"
    }
   },
   "outputs": [
    {
     "data": {
      "image/png": "[encoded data removed]",
      "text/plain": [
       "<matplotlib.figure.Figure at 0x10a648c50>"
      ]
     },
     "metadata": {},
     "output_type": "display_data"
    }
   ],
   "source": [
    "fig, ax = get_pyplot_ax()\n",
    "\n",
    "nx.draw_networkx(graph, ax = ax, node_size = 2300, node_color = 'black', node_label = None)\n",
    "\n",
    "fig.savefig('img/generic_graph.png', dpi = 300)"
   ]
  },
  {
   "cell_type": "markdown",
   "metadata": {
    "slideshow": {
     "slide_type": "subslide"
    }
   },
   "source": [
    "## add color to nodes"
   ]
  },
  {
   "cell_type": "code",
   "execution_count": 6,
   "metadata": {
    "collapsed": false,
    "slideshow": {
     "slide_type": "-"
    }
   },
   "outputs": [
    {
     "data": {
      "image/png": "[encoded data removed]",
      "text/plain": [
       "<matplotlib.figure.Figure at 0x10f8db208>"
      ]
     },
     "metadata": {},
     "output_type": "display_data"
    }
   ],
   "source": [
    "boy_color = 'green'\n",
    "girl_color = 'orange'\n",
    "\n",
    "color_by_gender = {\n",
    "    'jere': boy_color, 'miika': boy_color, 'mikko': boy_color, 'olli': boy_color,\n",
    "    'ella': girl_color, 'anniina': girl_color, 'laura': girl_color, 'maria': girl_color\n",
    "}\n",
    "\n",
    "# create a list of color per node\n",
    "colors = [color_by_gender[node] for node in graph.nodes_iter()]\n",
    "\n",
    "fig, ax = get_pyplot_ax()\n",
    "nx.draw_networkx(graph, ax = ax, node_size = 2300, node_color = colors);\n"
   ]
  },
  {
   "cell_type": "markdown",
   "metadata": {
    "slideshow": {
     "slide_type": "subslide"
    }
   },
   "source": [
    "## custom labels"
   ]
  },
  {
   "cell_type": "code",
   "execution_count": 7,
   "metadata": {
    "collapsed": false,
    "slideshow": {
     "slide_type": "-"
    }
   },
   "outputs": [
    {
     "data": {
      "image/png": "[encoded data removed]",
      "text/plain": [
       "<matplotlib.figure.Figure at 0x10f8ee278>"
      ]
     },
     "metadata": {},
     "output_type": "display_data"
    }
   ],
   "source": [
    "fig, ax = get_pyplot_ax()\n",
    "\n",
    "labels = {}\n",
    "for person in people:\n",
    "    labels[person] = person.upper()\n",
    "nx.draw_networkx(graph, labels = labels, ax = ax, node_size = 2300, node_color = colors);"
   ]
  },
  {
   "cell_type": "markdown",
   "metadata": {
    "slideshow": {
     "slide_type": "subslide"
    }
   },
   "source": [
    "## fixed node positions"
   ]
  },
  {
   "cell_type": "code",
   "execution_count": 18,
   "metadata": {
    "collapsed": false,
    "slideshow": {
     "slide_type": "-"
    }
   },
   "outputs": [
    {
     "data": {
      "image/png": "[encoded data removed]",
      "text/plain": [
       "<matplotlib.figure.Figure at 0x111820710>"
      ]
     },
     "metadata": {},
     "output_type": "display_data"
    }
   ],
   "source": [
    "pos = nx.layout.spring_layout(graph)\n",
    "\n",
    "fig, ax = get_pyplot_ax(rows = 1, columns = 2, figsize = (12, 5))\n",
    "\n",
    "left_plot = ax[0]\n",
    "right_plot = ax[1]\n",
    "\n",
    "nx.draw_networkx(graph, pos = pos, ax = left_plot, node_size = 2300,)\n",
    "nx.draw_networkx(graph, pos = pos, ax = right_plot, node_size = 2300, node_color = colors)"
   ]
  },
  {
   "cell_type": "markdown",
   "metadata": {
    "slideshow": {
     "slide_type": "slide"
    }
   },
   "source": [
    "## analysis of a graph"
   ]
  },
  {
   "cell_type": "markdown",
   "metadata": {
    "slideshow": {
     "slide_type": "subslide"
    }
   },
   "source": [
    "### degrees"
   ]
  },
  {
   "cell_type": "code",
   "execution_count": 9,
   "metadata": {
    "collapsed": false,
    "slideshow": {
     "slide_type": "-"
    }
   },
   "outputs": [
    {
     "name": "stdout",
     "output_type": "stream",
     "text": [
      "anniina has 2 friends\n",
      "ella has 4 friends\n",
      "olli has 2 friends\n",
      "mikko has 3 friends\n",
      "maria has 2 friends\n",
      "jere has 4 friends\n",
      "laura has 3 friends\n",
      "miika has 2 friends\n"
     ]
    }
   ],
   "source": [
    "number_of_friends = graph.degree()\n",
    "\n",
    "for person in number_of_friends:\n",
    "    print(\"{} has {} friends\".format(person, number_of_friends[person]))"
   ]
  },
  {
   "cell_type": "markdown",
   "metadata": {
    "slideshow": {
     "slide_type": "subslide"
    }
   },
   "source": [
    "### clustering"
   ]
  },
  {
   "cell_type": "markdown",
   "metadata": {},
   "source": [
    "<img style='float:left; width: 400px;' src='img/example_friends.png'/>"
   ]
  },
  {
   "cell_type": "code",
   "execution_count": 10,
   "metadata": {
    "collapsed": false,
    "slideshow": {
     "slide_type": "subslide"
    }
   },
   "outputs": [],
   "source": [
    "from clustering import spectral_clusters\n",
    "partition = spectral_clusters(graph, 2)"
   ]
  },
  {
   "cell_type": "code",
   "execution_count": 11,
   "metadata": {
    "collapsed": false,
    "slideshow": {
     "slide_type": "fragment"
    }
   },
   "outputs": [
    {
     "data": {
      "text/plain": [
       "array([0, 1, 1, 1, 1, 0, 0, 0], dtype=int32)"
      ]
     },
     "execution_count": 11,
     "metadata": {},
     "output_type": "execute_result"
    }
   ],
   "source": [
    "partition"
   ]
  },
  {
   "cell_type": "code",
   "execution_count": 12,
   "metadata": {
    "collapsed": false,
    "slideshow": {
     "slide_type": "fragment"
    }
   },
   "outputs": [],
   "source": [
    "group_colors = []\n",
    "for pos, name in enumerate(graph.nodes_iter()):\n",
    "    side = partition[pos]\n",
    "    color = 'blue' if side == 1 else 'grey'\n",
    "    group_colors.append(color)"
   ]
  },
  {
   "cell_type": "code",
   "execution_count": 13,
   "metadata": {
    "collapsed": false,
    "slideshow": {
     "slide_type": "fragment"
    }
   },
   "outputs": [
    {
     "data": {
      "image/png": "[encoded data removed]",
      "text/plain": [
       "<matplotlib.figure.Figure at 0x11162ff60>"
      ]
     },
     "metadata": {},
     "output_type": "display_data"
    }
   ],
   "source": [
    "fig, ax = get_pyplot_ax()\n",
    "nx.draw_networkx(graph, ax = ax, node_color = group_colors, node_size = 2300);"
   ]
  },
  {
   "cell_type": "markdown",
   "metadata": {
    "slideshow": {
     "slide_type": "slide"
    }
   },
   "source": [
    "# back to twitter\n",
    "\n",
    "* the twitter data\n",
    "* retweets and replies"
   ]
  },
  {
   "cell_type": "markdown",
   "metadata": {
    "slideshow": {
     "slide_type": "subslide"
    }
   },
   "source": [
    "### dataset\n",
    "\n",
    "* tweets collected using the streaming api (1% sample)\n",
    "* can also be collected from the REST api"
   ]
  },
  {
   "cell_type": "markdown",
   "metadata": {
    "slideshow": {
     "slide_type": "subslide"
    }
   },
   "source": [
    "### a tweet"
   ]
  },
  {
   "cell_type": "markdown",
   "metadata": {
    "collapsed": true
   },
   "source": [
    "{u'contributors': None, u'coordinates': None, u'created_at': u'Fri Mar 25 11:52:14 +0000 2016', u'entities': {u'hashtags': [{u'indices': [0, 3], u'text': u'RT'}, {u'indices': [4, 11], u'text': u'Follow'}, {u'indices': [12, 23], u'text': u'TopStories'}], u'media': [{u'display_url': u'pic.twitter.com/IN2KVsc1fI', u'expanded_url': u'http://twitter.com/KTM_Riders/status/713332663755509761/photo/1', u'id': 713332663633883136, u'id_str': u'713332663633883136', u'indices': [114, 137], u'media_url': u'http://pbs.twimg.com/media/CeZERzaUsAAXPMP.jpg', u'media_url_https': u'https://pbs.twimg.com/media/CeZERzaUsAAXPMP.jpg', u'sizes': {u'large': {u'h': 683, u'resize': u'fit', u'w': 1024}, u'medium': {u'h': 400, u'resize': u'fit', u'w': 600}, u'small': {u'h': 227, u'resize': u'fit', u'w': 340}, u'thumb': {u'h': 150, u'resize': u'crop', u'w': 150}}, u'type': u'photo', u'url': u'https://t.co/IN2KVsc1fI'}], u'symbols': [], u'urls': [{u'display_url': u'bit.ly/1jyqSVe', u'expanded_url': u'http://bit.ly/1jyqSVe', u'indices': [90, 113], u'url': u'https://t.co/sAPChiEEcY'}], u'user_mentions': []}, u'extended_entities': {u'media': [{u'display_url': u'pic.twitter.com/IN2KVsc1fI', u'expanded_url': u'http://twitter.com/KTM_Riders/status/713332663755509761/photo/1', u'id': 713332663633883136, u'id_str': u'713332663633883136', u'indices': [114, 137], u'media_url': u'http://pbs.twimg.com/media/CeZERzaUsAAXPMP.jpg', u'media_url_https': u'https://pbs.twimg.com/media/CeZERzaUsAAXPMP.jpg', u'sizes': {u'large': {u'h': 683, u'resize': u'fit', u'w': 1024}, u'medium': {u'h': 400, u'resize': u'fit', u'w': 600}, u'small': {u'h': 227, u'resize': u'fit', u'w': 340}, u'thumb': {u'h': 150, u'resize': u'crop', u'w': 150}}, u'type': u'photo', u'url': u'https://t.co/IN2KVsc1fI'}]}, u'favorite_count': 0, u'favorited': False, u'filter_level': u'low', u'geo': None, u'id': 713332663755509761, u'id_str': u'713332663755509761', u'in_reply_to_screen_name': None, u'in_reply_to_status_id': None, u'in_reply_to_status_id_str': None, u'in_reply_to_user_id': None, u'in_reply_to_user_id_str': None, u'is_quote_status': False, u'lang': u'en', u'place': None, u'possibly_sensitive': False, u'retweet_count': 0, u'retweeted': False, u'source': u'<a href=\"http://dlvr.it\" rel=\"nofollow\">dlvr.it</a>', u'text': u\"#RT #Follow #TopStories Trump Aides Plot 'Two-Phase' Strategy to Win Potential Contested\\u2026 https://t.co/sAPChiEEcY https://t.co/IN2KVsc1fI\", u'timestamp_ms': u'1458906734776', u'truncated': False, u'user': {u'contributors_enabled': False, u'created_at': u'Wed Jun 06 08:28:15 +0000 2012', u'default_profile': False, u'default_profile_image': False, u'description': u'The Dirt Rider Club', u'favourites_count': 0, u'follow_request_sent': None, u'followers_count': 3218, u'following': None, u'friends_count': 3782, u'geo_enabled': False, u'id': 600799231, u'id_str': u'600799231', u'is_translator': False, u'lang': u'en', u'listed_count': 110, u'location': u'North America', u'name': u'KTM Rider Club', u'notifications': None, u'profile_background_color': u'131516', u'profile_background_image_url': u'http://abs.twimg.com/images/themes/theme14/bg.gif', u'profile_background_image_url_https': u'https://abs.twimg.com/images/themes/theme14/bg.gif', u'profile_background_tile': True, u'profile_image_url': u'http://pbs.twimg.com/profile_images/2375931627/795f1dvdi168knsqo2ch_normal.jpeg', u'profile_image_url_https': u'https://pbs.twimg.com/profile_images/2375931627/795f1dvdi168knsqo2ch_normal.jpeg', u'profile_link_color': u'009999', u'profile_sidebar_border_color': u'EEEEEE', u'profile_sidebar_fill_color': u'EFEFEF', u'profile_text_color': u'333333', u'profile_use_background_image': True, u'protected': False, u'screen_name': u'KTM_Riders', u'statuses_count': 162712, u'time_zone': u'Central Time (US & Canada)', u'url': u'https://twitter.com/KTM_Riders', u'utc_offset': -18000, u'verified': False}}"
   ]
  },
  {
   "cell_type": "markdown",
   "metadata": {
    "slideshow": {
     "slide_type": "subslide"
    }
   },
   "source": [
    "### a retweet"
   ]
  },
  {
   "cell_type": "markdown",
   "metadata": {},
   "source": [
    "<img style='float:right; width:400px;' src='img/trump_tweet.png'>\n",
    "__original tweet author__ realDonaldTrump\n",
    "\n",
    "__retweet author__ terry_golfing\n",
    "\n",
    "__text__ RT @realDonaldTrump: REPEAL AND REPLACE OBAMACARE!"
   ]
  },
  {
   "cell_type": "markdown",
   "metadata": {
    "slideshow": {
     "slide_type": "subslide"
    }
   },
   "source": [
    "### a reply"
   ]
  },
  {
   "cell_type": "markdown",
   "metadata": {},
   "source": [
    "<img style='float:right; width:400px;' src='img/trump_tweet.png'>\n",
    "__original tweet author__ realDonaldTrump\n",
    "\n",
    "__reply author__ tonyposnanski\n",
    "\n",
    "__text__ @realDonaldTrump have a better plan than the one you presented"
   ]
  },
  {
   "cell_type": "markdown",
   "metadata": {
    "slideshow": {
     "slide_type": "slide"
    }
   },
   "source": [
    "### building graph for retweets"
   ]
  },
  {
   "cell_type": "code",
   "execution_count": 14,
   "metadata": {
    "collapsed": true,
    "slideshow": {
     "slide_type": "skip"
    }
   },
   "outputs": [],
   "source": [
    "dataset = []\n",
    "tweet =  None\n",
    "def is_retweet(tweet):\n",
    "    pass\n",
    "def get_retweet_author(tweet):\n",
    "    pass\n",
    "def get_original_author(tweet):\n",
    "    pass\n",
    "def contains_topic(tweet, topic):\n",
    "    pass"
   ]
  },
  {
   "cell_type": "code",
   "execution_count": 15,
   "metadata": {
    "collapsed": true
   },
   "outputs": [],
   "source": [
    "topic = '#obamacare'\n",
    "for tweet in dataset:\n",
    "    if contains_topic(tweet, topic) and is_retweet(tweet):\n",
    "        from_who = get_retweet_author(tweet)\n",
    "        to_who = get_original_author(tweet)\n",
    "        graph.add_edge(from_who, to_who)"
   ]
  },
  {
   "cell_type": "markdown",
   "metadata": {
    "slideshow": {
     "slide_type": "subslide"
    }
   },
   "source": [
    "### visualizations"
   ]
  },
  {
   "cell_type": "markdown",
   "metadata": {},
   "source": [
    "<img style='float:left; width: 400px;' src='img/germanwings_nocolor.png'/>\n",
    "<img style='float:left; width: 400px;' src='img/nepal_nocolor.png'/>\n",
    "<p style=\"clear: both;\">\n",
    "<img style='float:left; width: 400px;' src='img/beefban_nocolor.png'/>\n",
    "<img style='float:left; width: 400px;' src='img/russia_march_nocolor.png'/>"
   ]
  },
  {
   "cell_type": "markdown",
   "metadata": {
    "slideshow": {
     "slide_type": "slide"
    }
   },
   "source": [
    "# what happens when people disagree?\n",
    "\n",
    "we notice a difference...\n",
    "\n",
    "retweet graphs for controversial topics contain two well-separated clusters"
   ]
  },
  {
   "cell_type": "markdown",
   "metadata": {
    "slideshow": {
     "slide_type": "subslide"
    }
   },
   "source": [
    "### clustering\n",
    "\n",
    "we cluster each graph like before"
   ]
  },
  {
   "cell_type": "code",
   "execution_count": 16,
   "metadata": {
    "collapsed": true,
    "slideshow": {
     "slide_type": "-"
    }
   },
   "outputs": [],
   "source": [
    "partition = spectral_clusters(graph, 2)"
   ]
  },
  {
   "cell_type": "markdown",
   "metadata": {},
   "source": [
    "to find sides __if__ they exist"
   ]
  },
  {
   "cell_type": "markdown",
   "metadata": {
    "slideshow": {
     "slide_type": "subslide"
    }
   },
   "source": [
    "### visualize with clusters"
   ]
  },
  {
   "cell_type": "code",
   "execution_count": 17,
   "metadata": {
    "collapsed": true
   },
   "outputs": [],
   "source": [
    "group_colors = []\n",
    "for pos, name in enumerate(graph.nodes_iter()):\n",
    "    side = partition[pos]\n",
    "    color = 'blue' if side == 1 else 'red'\n",
    "    group_colors.append(color)"
   ]
  },
  {
   "cell_type": "markdown",
   "metadata": {
    "slideshow": {
     "slide_type": "subslide"
    }
   },
   "source": [
    "nx.__draw_networkx__(graph, ax = ax, __node_color = group_colors__, node_size = 2300);"
   ]
  },
  {
   "cell_type": "markdown",
   "metadata": {
    "slideshow": {
     "slide_type": "subslide"
    }
   },
   "source": [
    "<img style='float:left; width: 400px;' src='img/germanwings.png'/>\n",
    "<img style='float:left; width: 400px;' src='img/nepal.png'/>\n",
    "<p style=\"clear: both;\">\n",
    "<img style='float:left; width: 400px;' src='img/beefban.png'/>\n",
    "<img style='float:left; width: 400px;' src='img/russia_march.png'/>"
   ]
  },
  {
   "cell_type": "markdown",
   "metadata": {
    "slideshow": {
     "slide_type": "slide"
    }
   },
   "source": [
    "# reply networks\n",
    "\n",
    "what about reply networks?"
   ]
  },
  {
   "cell_type": "markdown",
   "metadata": {
    "slideshow": {
     "slide_type": "subslide"
    }
   },
   "source": [
    "<img style='float:left; width: 400px;' src='img/men_germanwings.png'/>\n",
    "<img style='float:left; width: 400px;' src='img/men_nepal.png'/>\n",
    "<p style=\"clear: both;\">\n",
    "<img style='float:left; width: 400px;' src='img/men_beefban.png'/>\n",
    "<img style='float:left; width: 400px;' src='img/men_russia_march.png'/>"
   ]
  },
  {
   "cell_type": "markdown",
   "metadata": {
    "slideshow": {
     "slide_type": "slide"
    }
   },
   "source": [
    "# summary\n",
    "\n",
    "* __intro to networkx__ a python library to create, process, visualize graphs\n",
    "* __application__ twitter discussions\n",
    "    * controversial and non-controversial topics\n",
    "    * retweet and reply graphs\n",
    "    * retweet graphs are clearly separated for controversial topics\n",
    "    * replies also from one side to the other\n",
    "    * consistent pattern for many instances we've seen\n",
    "* graphs can offer __insights__ into human interactions\n"
   ]
  },
  {
   "cell_type": "markdown",
   "metadata": {
    "slideshow": {
     "slide_type": "slide"
    }
   },
   "source": [
    "# more about networkx\n",
    "\n",
    "* directed graphs\n",
    "* more layout algorithms\n",
    "* centrality and clustering measures\n",
    "* more at http://networkx.github.io/\n",
    "\n",
    "slides at https://github.com/mmathioudakis/pycon2016polarization"
   ]
  }
 ],
 "metadata": {
  "anaconda-cloud": {},
  "celltoolbar": "Slideshow",
  "kernelspec": {
   "display_name": "Python [Root]",
   "language": "python",
   "name": "Python [Root]"
  },
  "language_info": {
   "codemirror_mode": {
    "name": "ipython",
    "version": 3
   },
   "file_extension": ".py",
   "mimetype": "text/x-python",
   "name": "python",
   "nbconvert_exporter": "python",
   "pygments_lexer": "ipython3",
   "version": "3.5.2"
  }
 },
 "nbformat": 4,
 "nbformat_minor": 0
}
