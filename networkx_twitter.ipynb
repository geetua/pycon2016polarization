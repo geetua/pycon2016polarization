{
 "cells": [
  {
   "cell_type": "code",
   "execution_count": 1,
   "metadata": {
    "collapsed": true,
    "slideshow": {
     "slide_type": "skip"
    }
   },
   "outputs": [],
   "source": [
    "# import IPython.display as display\n",
    "# from IPython.core.display import HTML "
   ]
  },
  {
   "cell_type": "code",
   "execution_count": 2,
   "metadata": {
    "collapsed": true,
    "slideshow": {
     "slide_type": "skip"
    }
   },
   "outputs": [],
   "source": [
    "%matplotlib inline"
   ]
  },
  {
   "cell_type": "markdown",
   "metadata": {
    "slideshow": {
     "slide_type": "slide"
    }
   },
   "source": [
    "<img style=\"float: right;\", src='img/cover.jpg'/>\n",
    "\n",
    "# visualizing discussions on twitter with networkx\n",
    "\n",
    "* kiran garimella, aalto university\n",
    "* michael mathioudakis, aalto university\n",
    "\n",
    "\n"
   ]
  },
  {
   "cell_type": "markdown",
   "metadata": {
    "slideshow": {
     "slide_type": "slide"
    }
   },
   "source": [
    "## social media\n",
    "<img style='float: right; height:300px;' src='img/social_media.jpg'/>\n",
    "#### users generate digital content\n",
    "status updates, blog posts, pictures, videos, reviews, ...\n",
    "#### users interact\n",
    "comments, likes, ratings, re-posts\n",
    "#### digital traces\n",
    "we can observe human interactions at global scale"
   ]
  },
  {
   "cell_type": "markdown",
   "metadata": {
    "slideshow": {
     "slide_type": "slide"
    }
   },
   "source": [
    "<img style='float:right; width: 250px' src='img/twitter_logo.png'/>\n",
    "## twitter\n",
    "\n",
    "#### microblogging platform\n",
    "users post short messages, '__tweets__'\n",
    "\n",
    "#### since 2006, 300m + active users\n",
    "\n",
    "#### tweets, retweets, replies"
   ]
  },
  {
   "cell_type": "markdown",
   "metadata": {
    "slideshow": {
     "slide_type": "notes"
    }
   },
   "source": [
    "show examples of real tweets, retweets, and replies"
   ]
  },
  {
   "cell_type": "markdown",
   "metadata": {
    "slideshow": {
     "slide_type": "slide"
    }
   },
   "source": [
    "<img style='float:left; width:250px;' src='img/trump_tweet.png'>\n",
    "<img style='float:left; width:250px;' src='img/greenwald_tweet.png'>\n",
    "<img style='float:left; width:250px;' src='img/leme_tweet.png'>"
   ]
  },
  {
   "cell_type": "markdown",
   "metadata": {
    "slideshow": {
     "slide_type": "-"
    }
   },
   "source": [
    "can we learn something from the stucture of people's interactions?\n",
    "\n",
    "we'll do that by visualizing __graphs__\n",
    "\n",
    "graphs?"
   ]
  },
  {
   "cell_type": "markdown",
   "metadata": {
    "slideshow": {
     "slide_type": "slide"
    }
   },
   "source": [
    "## graphs!\n",
    "\n",
    "#### what is a graph?\n",
    "\n",
    "data structure\n",
    "\n",
    "two types of elements: nodes and edges"
   ]
  },
  {
   "cell_type": "markdown",
   "metadata": {
    "slideshow": {
     "slide_type": "notes"
    }
   },
   "source": [
    "__todo__ include an example of a very simple social network"
   ]
  },
  {
   "cell_type": "markdown",
   "metadata": {
    "slideshow": {
     "slide_type": "subslide"
    }
   },
   "source": [
    "#### what are graphs used for?\n",
    "represent social connections between people ..."
   ]
  },
  {
   "cell_type": "markdown",
   "metadata": {
    "slideshow": {
     "slide_type": "fragment"
    }
   },
   "source": [
    "... or represent networks\n",
    "e.g., road networks, computer networks\n",
    "\n",
    "graph vs network"
   ]
  },
  {
   "cell_type": "markdown",
   "metadata": {
    "slideshow": {
     "slide_type": "slide"
    }
   },
   "source": [
    "## graphs with networkx\n",
    "\n",
    "* python library\n",
    "* create, process, visualize graphs\n",
    "* development started in 2004\n",
    "* mainly developed in 2014"
   ]
  },
  {
   "cell_type": "markdown",
   "metadata": {
    "slideshow": {
     "slide_type": "slide"
    }
   },
   "source": [
    "## building a graph"
   ]
  },
  {
   "cell_type": "markdown",
   "metadata": {},
   "source": [
    "__todo__ say we want to build earlier example"
   ]
  },
  {
   "cell_type": "code",
   "execution_count": 3,
   "metadata": {
    "collapsed": false,
    "slideshow": {
     "slide_type": "fragment"
    }
   },
   "outputs": [],
   "source": [
    "import networkx as nx\n",
    "\n",
    "# initialize\n",
    "graph = nx.Graph()\n",
    "\n",
    "people = ['jere', 'ella', 'miika', 'anniina', 'mikko']\n",
    "connections = [('jere', 'ella'), ('ella', 'anniina'), ('ella', 'miika'),\n",
    "                   ('mikko', 'ella'), ('anniina', 'mikko')]\n",
    "\n",
    "# add all nodes\n",
    "for node in people:\n",
    "    graph.add_node(node)\n",
    "\n",
    "# add all edges\n",
    "for node_a, node_b in connections:\n",
    "    graph.add_edge(node_a, node_b)\n"
   ]
  },
  {
   "cell_type": "markdown",
   "metadata": {
    "slideshow": {
     "slide_type": "slide"
    }
   },
   "source": [
    "## visualizing a graph"
   ]
  },
  {
   "cell_type": "code",
   "execution_count": 4,
   "metadata": {
    "collapsed": false,
    "slideshow": {
     "slide_type": "-"
    }
   },
   "outputs": [
    {
     "data": {
      "image/png": "[encoded data removed]",
      "text/plain": [
       "<matplotlib.figure.Figure at 0x112438748>"
      ]
     },
     "metadata": {},
     "output_type": "display_data"
    }
   ],
   "source": [
    "import matplotlib.pyplot as plt\n",
    "fig, ax = plt.subplots(1, 1, figsize = (7, 7))\n",
    "ax.axis('off')\n",
    "\n",
    "nx.draw_networkx(graph, ax = ax)\n",
    "\n",
    "fig.savefig('img/friends.pdf', dpi = 300)"
   ]
  },
  {
   "cell_type": "markdown",
   "metadata": {
    "slideshow": {
     "slide_type": "subslide"
    }
   },
   "source": [
    "## add color to nodes"
   ]
  },
  {
   "cell_type": "code",
   "execution_count": 5,
   "metadata": {
    "collapsed": false,
    "slideshow": {
     "slide_type": "-"
    }
   },
   "outputs": [
    {
     "data": {
      "image/png": "[encoded data removed]",
      "text/plain": [
       "<matplotlib.figure.Figure at 0x113f4ff28>"
      ]
     },
     "metadata": {},
     "output_type": "display_data"
    }
   ],
   "source": [
    "boy_color = 'blue'\n",
    "girl_color = 'orange'\n",
    "\n",
    "people = ['jere', 'ella', 'miika', 'anniina', 'mikko']\n",
    "colors = [boy_color, girl_color, boy_color, girl_color, boy_color]\n",
    "\n",
    "fig, ax = plt.subplots(1, 1, figsize = (7, 7))\n",
    "ax.axis('off');\n",
    "nx.draw_networkx(graph, ax = ax, node_color = colors);\n"
   ]
  },
  {
   "cell_type": "markdown",
   "metadata": {
    "slideshow": {
     "slide_type": "subslide"
    }
   },
   "source": [
    "## custom labels"
   ]
  },
  {
   "cell_type": "code",
   "execution_count": 6,
   "metadata": {
    "collapsed": false,
    "slideshow": {
     "slide_type": "-"
    }
   },
   "outputs": [
    {
     "data": {
      "image/png": "[encoded data removed]",
      "text/plain": [
       "<matplotlib.figure.Figure at 0x113f5db38>"
      ]
     },
     "metadata": {},
     "output_type": "display_data"
    }
   ],
   "source": [
    "fig, ax = plt.subplots(1, 1, figsize = (7, 7))\n",
    "ax.axis('off')\n",
    "\n",
    "labels = {}\n",
    "for person in people:\n",
    "    labels[person] = person.upper()\n",
    "nx.draw_networkx(graph, labels = labels, ax = ax, node_color = colors);"
   ]
  },
  {
   "cell_type": "markdown",
   "metadata": {
    "slideshow": {
     "slide_type": "subslide"
    }
   },
   "source": [
    "## fixed node positions"
   ]
  },
  {
   "cell_type": "code",
   "execution_count": 7,
   "metadata": {
    "collapsed": false,
    "slideshow": {
     "slide_type": "-"
    }
   },
   "outputs": [
    {
     "data": {
      "image/png": "[encoded data removed]",
      "text/plain": [
       "<matplotlib.figure.Figure at 0x1143771d0>"
      ]
     },
     "metadata": {},
     "output_type": "display_data"
    }
   ],
   "source": [
    "pos = nx.layout.circular_layout(graph)\n",
    "\n",
    "fig, ax = plt.subplots(1, 2, figsize = (14, 6))\n",
    "left_plot = ax[0]\n",
    "right_plot = ax[1]\n",
    "left_plot.axis('off')\n",
    "right_plot.axis('off')\n",
    "\n",
    "nx.draw_networkx(graph, pos = pos, ax = left_plot)\n",
    "nx.draw_networkx(graph, pos = pos, ax = right_plot, node_color = colors)"
   ]
  },
  {
   "cell_type": "markdown",
   "metadata": {
    "slideshow": {
     "slide_type": "slide"
    }
   },
   "source": [
    "## analysis of a graph"
   ]
  },
  {
   "cell_type": "markdown",
   "metadata": {
    "slideshow": {
     "slide_type": "slide"
    }
   },
   "source": [
    "### degrees"
   ]
  },
  {
   "cell_type": "code",
   "execution_count": 8,
   "metadata": {
    "collapsed": false,
    "slideshow": {
     "slide_type": "subslide"
    }
   },
   "outputs": [
    {
     "name": "stdout",
     "output_type": "stream",
     "text": [
      "ella has 4 friends\n",
      "miika has 1 friends\n",
      "jere has 1 friends\n",
      "mikko has 2 friends\n",
      "anniina has 2 friends\n"
     ]
    }
   ],
   "source": [
    "number_of_friends = graph.degree()\n",
    "\n",
    "for person in number_of_friends:\n",
    "    print(\"{} has {} friends\".format(person, number_of_friends[person]))"
   ]
  },
  {
   "cell_type": "markdown",
   "metadata": {
    "slideshow": {
     "slide_type": "subslide"
    }
   },
   "source": [
    "### clustering"
   ]
  },
  {
   "cell_type": "markdown",
   "metadata": {
    "slideshow": {
     "slide_type": "notes"
    }
   },
   "source": [
    "__todo__ spectral clustering"
   ]
  },
  {
   "cell_type": "markdown",
   "metadata": {
    "slideshow": {
     "slide_type": "slide"
    }
   },
   "source": [
    "# back to twitter\n",
    "\n",
    "* the twitter data\n",
    "* retweets and replies"
   ]
  },
  {
   "cell_type": "markdown",
   "metadata": {
    "slideshow": {
     "slide_type": "subslide"
    }
   },
   "source": [
    "### dataset"
   ]
  },
  {
   "cell_type": "code",
   "execution_count": 13,
   "metadata": {
    "collapsed": false
   },
   "outputs": [
    {
     "data": {
      "text/plain": [
       "'DanRebellato: @realDonaldTrump It’s true. I haven’t even been able to read your tweet about it. #DishonestMedia'"
      ]
     },
     "execution_count": 13,
     "metadata": {},
     "output_type": "execute_result"
    }
   ],
   "source": [
    "{\"self\":{\"_id\":\"2090e51a-0e30-32c2-acf7-ca3e600bf02b\",\"_context\":\"1a12388e-4e8c-3d3b-bff4-15489f65f28a\",\"_writer\":\"0bb21b82-4fb5-3ffd-8e20-cedb0efe73f8\",\"_rev\":\"a0714e80-1bce-11e3-b773-0800200c9a66\",\"_name\":\"self\"},\"raw_tweet\":{\"_id\":\"2090e51a-0e30-32c2-acf7-ca3e600bf02b\",\"_context\":\"1a12388e-4e8c-3d3b-bff4-15489f65f28a\",\"_writer\":\"0bb21b82-4fb5-3ffd-8e20-cedb0efe73f8\",\"_rev\":\"a0714e80-1bce-11e3-b773-0800200c9a66\",\"_name\":\"raw_tweet\"},\"rtds_tweet\":{\"_id\":\"2090e51a-0e30-32c2-acf7-ca3e600bf02b\",\"_context\":\"1a12388e-4e8c-3d3b-bff4-15489f65f28a\",\"_writer\":\"0bb21b82-4fb5-3ffd-8e20-cedb0efe73f8\",\"_rev\":\"a0714e80-1bce-11e3-b773-0800200c9a66\",\"_name\":\"rtds_tweet\",\"created_at\":1425398697,\"created_at_timestamp\":1425398697,\"favorite_count\":\"0\",\"filter_level\":1,\"geo_enabled\":0,\"hashtags\":[\"NetanyahuSpeech\"],\"highline_whitelisted\":0,\"id\":572789769966649345,\"in_reply_to_screen_name\":\"\",\"in_reply_to_user_id\":0,\"retweet_count\":\"0\",\"retweet_count_int\":0,\"retweet_type\":0,\"source\":\"<a href=\\\"http://twitter.com\\\" rel=\\\"nofollow\\\">Twitter Web Client</a>\",\"text\":\"Cruz looks totally badass in those cowboy boots! #NetanyahuSpeech @SenTedCruz\",\"truncated\":0,\"tweet_event_type\":\"NEW\",\"user_contributors_enabled\":0,\"user_created_at\":1374266498,\"user_curator_score\":0.0,\"user_favourites_count\":2,\"user_followers_count\":11,\"user_friends_count\":75,\"user_id\":1606701780,\"user_lang\":\"en\",\"user_listed_count\":0,\"user_location\":\"\",\"user_mentions\":[\"SenTedCruz\"],\"user_name\":\"Scott Rothgaber\",\"user_profile_image_url\":\"http://pbs.twimg.com/profile_images/378800000162138311/22772d5658c1e9ae40374c6c973c5261_normal.jpeg\",\"user_protected\":0,\"user_screen_name\":\"ExCavSGT\",\"user_statuses_count\":32,\"user_utc_offset\":0,\"user_verified\":0,\"user_voter_score\":0.0,\"yst_tweet_adult_score\":0,\"yst_tweet_groups\":[],\"yst_tweet_has_link\":0,\"yst_tweet_hashtags_array\":[\"NetanyahuSpeech\"],\"yst_tweet_hashtags_array_size\":1,\"yst_tweet_hashtags_indices_array\":[50,64],\"yst_tweet_language\":\"en\",\"yst_tweet_uppercase_char_num\":6,\"yst_tweet_user_mention_array\":[\"SenTedCruz\"],\"yst_tweet_user_mention_array_size\":1,\"yst_tweet_user_mention_indices_array\":[67,76],\"yst_tweet_word_num\":10,\"yst_user_spam_score\":0.0}}\n",
    "'terry_golfing: RT @YahooNews: WATCH LIVE #NetanyahuSpeech in the U.S. House, followed by  @YahooNews analysis http://t.co/dWNJocqkLn'\n",
    "'DanRebellato: @realDonaldTrump It’s true. I haven’t even been able to read your tweet about it. #DishonestMedia'"
   ]
  },
  {
   "cell_type": "markdown",
   "metadata": {
    "slideshow": {
     "slide_type": "notes"
    }
   },
   "source": [
    "__todo__ show actual data"
   ]
  },
  {
   "cell_type": "markdown",
   "metadata": {
    "slideshow": {
     "slide_type": "subslide"
    }
   },
   "source": [
    "### building the graph"
   ]
  },
  {
   "cell_type": "code",
   "execution_count": 10,
   "metadata": {
    "collapsed": false,
    "slideshow": {
     "slide_type": "notes"
    }
   },
   "outputs": [
    {
     "ename": "SyntaxError",
     "evalue": "invalid syntax (<ipython-input-10-5127d3f7cf05>, line 1)",
     "output_type": "error",
     "traceback": [
      "\u001b[0;36m  File \u001b[0;32m\"<ipython-input-10-5127d3f7cf05>\"\u001b[0;36m, line \u001b[0;32m1\u001b[0m\n\u001b[0;31m    * user1 retweets user2 -> add an edge (user1, user2) in the retweet graph\u001b[0m\n\u001b[0m                   ^\u001b[0m\n\u001b[0;31mSyntaxError\u001b[0m\u001b[0;31m:\u001b[0m invalid syntax\n"
     ]
    }
   ],
   "source": [
    "* user1 retweets user2 -> add an edge (user1, user2) in the retweet graph\n",
    "* user1 replies to user2 -> add an edge (user1, user2) in the reply graph\n",
    "\n",
    "thehill,takenomoore,2.0\n",
    "thehill,jnbrooks07,2.0\n",
    "poetickharisma,barackobama,2.0\n",
    "javankelly,bobhamp,2.0\n",
    "javankelly,mfcannon,2.0\n"
   ]
  },
  {
   "cell_type": "markdown",
   "metadata": {
    "slideshow": {
     "slide_type": "subslide"
    }
   },
   "source": [
    "### visualizations"
   ]
  },
  {
   "cell_type": "code",
   "execution_count": 15,
   "metadata": {
    "collapsed": false,
    "slideshow": {
     "slide_type": "slide"
    }
   },
   "outputs": [
    {
     "ename": "SyntaxError",
     "evalue": "invalid syntax (<ipython-input-15-122f6c96063a>, line 1)",
     "output_type": "error",
     "traceback": [
      "\u001b[0;36m  File \u001b[0;32m\"<ipython-input-15-122f6c96063a>\"\u001b[0;36m, line \u001b[0;32m1\u001b[0m\n\u001b[0;31m    <img style='float:left; width:250px;' src='img/trump_tweet.png'>\u001b[0m\n\u001b[0m    ^\u001b[0m\n\u001b[0;31mSyntaxError\u001b[0m\u001b[0;31m:\u001b[0m invalid syntax\n"
     ]
    }
   ],
   "source": [
    "<img style='float:left; width:250px;' src='img/russia_march.png'>\n",
    "<img style='float:left; width:250px;' src='img/obamacare.png'>\n",
    "<img style='float:left; width:250px;' src='img/germanwings.png'>\n",
    "<img style='float:left; width:250px;' src='img/nepal.png'>\n",
    "<img style='float:left; width:250px;' src='img/beefban.png'>"
   ]
  },
  {
   "cell_type": "markdown",
   "metadata": {
    "slideshow": {
     "slide_type": "slide"
    }
   },
   "source": [
    "# deeper: what happens when people disagree?\n",
    "\n",
    "* we notice a difference...\n",
    "* let's make it more pronounced"
   ]
  },
  {
   "cell_type": "markdown",
   "metadata": {
    "slideshow": {
     "slide_type": "subslide"
    }
   },
   "source": [
    "### clustering"
   ]
  },
  {
   "cell_type": "code",
   "execution_count": 11,
   "metadata": {
    "collapsed": false
   },
   "outputs": [
    {
     "ename": "ImportError",
     "evalue": "No module named 'community'",
     "output_type": "error",
     "traceback": [
      "\u001b[0;31m---------------------------------------------------------------------------\u001b[0m",
      "\u001b[0;31mImportError\u001b[0m                               Traceback (most recent call last)",
      "\u001b[0;32m<ipython-input-11-df7b9c347c3b>\u001b[0m in \u001b[0;36m<module>\u001b[0;34m()\u001b[0m\n\u001b[0;32m----> 1\u001b[0;31m \u001b[0;32mimport\u001b[0m \u001b[0mcommunity\u001b[0m\u001b[0;34m\u001b[0m\u001b[0m\n\u001b[0m\u001b[1;32m      2\u001b[0m \u001b[0;34m\u001b[0m\u001b[0m\n\u001b[1;32m      3\u001b[0m \u001b[0;31m# load data\u001b[0m\u001b[0;34m\u001b[0m\u001b[0;34m\u001b[0m\u001b[0m\n\u001b[1;32m      4\u001b[0m \u001b[0mG\u001b[0m \u001b[0;34m=\u001b[0m \u001b[0mnx\u001b[0m\u001b[0;34m.\u001b[0m\u001b[0mread_weighted_edgelist\u001b[0m\u001b[0;34m(\u001b[0m\u001b[0;34m'retweet_graph.csv'\u001b[0m\u001b[0;34m,\u001b[0m\u001b[0mdelimiter\u001b[0m \u001b[0;34m=\u001b[0m \u001b[0;34m','\u001b[0m\u001b[0;34m)\u001b[0m\u001b[0;34m;\u001b[0m\u001b[0;34m\u001b[0m\u001b[0m\n",
      "\u001b[0;31mImportError\u001b[0m: No module named 'community'"
     ]
    }
   ],
   "source": [
    "import community\n",
    "\n",
    "# load data\n",
    "G = nx.read_weighted_edgelist('retweet_graph.csv',delimiter = ',');"
   ]
  },
  {
   "cell_type": "markdown",
   "metadata": {
    "slideshow": {
     "slide_type": "subslide"
    }
   },
   "source": [
    "### visualize with clusters"
   ]
  },
  {
   "cell_type": "markdown",
   "metadata": {
    "slideshow": {
     "slide_type": "slide"
    }
   },
   "source": [
    "# reply networks\n",
    "\n"
   ]
  },
  {
   "cell_type": "markdown",
   "metadata": {
    "slideshow": {
     "slide_type": "slide"
    }
   },
   "source": [
    "# summary"
   ]
  },
  {
   "cell_type": "markdown",
   "metadata": {
    "collapsed": true,
    "slideshow": {
     "slide_type": "slide"
    }
   },
   "source": [
    "# backup"
   ]
  },
  {
   "cell_type": "code",
   "execution_count": null,
   "metadata": {
    "collapsed": true
   },
   "outputs": [],
   "source": []
  }
 ],
 "metadata": {
  "anaconda-cloud": {},
  "celltoolbar": "Slideshow",
  "kernelspec": {
   "display_name": "Python 3",
   "language": "python",
   "name": "python3"
  },
  "language_info": {
   "codemirror_mode": {
    "name": "ipython",
    "version": 3
   },
   "file_extension": ".py",
   "mimetype": "text/x-python",
   "name": "python",
   "nbconvert_exporter": "python",
   "pygments_lexer": "ipython3",
   "version": "3.4.2"
  }
 },
 "nbformat": 4,
 "nbformat_minor": 0
}
