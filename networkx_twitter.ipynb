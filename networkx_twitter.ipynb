{
 "cells": [
  {
   "cell_type": "code",
   "execution_count": 1,
   "metadata": {
    "collapsed": true,
    "slideshow": {
     "slide_type": "skip"
    }
   },
   "outputs": [],
   "source": [
    "# import IPython.display as display\n",
    "# from IPython.core.display import HTML "
   ]
  },
  {
   "cell_type": "code",
   "execution_count": 2,
   "metadata": {
    "collapsed": true,
    "slideshow": {
     "slide_type": "skip"
    }
   },
   "outputs": [],
   "source": [
    "%matplotlib inline"
   ]
  },
  {
   "cell_type": "markdown",
   "metadata": {
    "slideshow": {
     "slide_type": "slide"
    }
   },
   "source": [
    "<img style=\"float: right;\", src='img/cover.jpg'/>\n",
    "\n",
    "# visualizing discussions on twitter with networkx\n",
    "\n",
    "* kiran garimella, aalto university\n",
    "* michael mathioudakis, aalto university\n",
    "\n",
    "\n"
   ]
  },
  {
   "cell_type": "markdown",
   "metadata": {
    "slideshow": {
     "slide_type": "slide"
    }
   },
   "source": [
    "## social media\n",
    "<img style='float: right; height:300px;' src='img/social_media.jpg'/>\n",
    "#### users generate digital content\n",
    "status updates, blog posts, pictures, videos, reviews, ...\n",
    "#### users interact\n",
    "comments, likes, ratings, re-posts\n",
    "#### digital traces\n",
    "we can observe human interactions at global scale"
   ]
  },
  {
   "cell_type": "markdown",
   "metadata": {
    "slideshow": {
     "slide_type": "slide"
    }
   },
   "source": [
    "<img style='float:right; width: 250px' src='img/twitter_logo.png'/>\n",
    "## twitter\n",
    "\n",
    "#### microblogging platform\n",
    "users post short messages, '__tweets__'\n",
    "\n",
    "#### since 2006, 200m + active users\n",
    "\n",
    "#### tweets, retweets, replies"
   ]
  },
  {
   "cell_type": "markdown",
   "metadata": {
    "slideshow": {
     "slide_type": "notes"
    }
   },
   "source": [
    "show examples of real tweets, retweets, and replies"
   ]
  },
  {
   "cell_type": "markdown",
   "metadata": {
    "slideshow": {
     "slide_type": "slide"
    }
   },
   "source": [
    "<img style='float:left; width:250px;' src='img/trump_tweet.png'>\n",
    "<img style='float:left; width:250px;' src='img/greenwald_tweet.png'>\n",
    "<img style='float:left; width:250px;' src='img/leme_tweet.png'>"
   ]
  },
  {
   "cell_type": "markdown",
   "metadata": {
    "slideshow": {
     "slide_type": "-"
    }
   },
   "source": [
    "can we learn something from people's interactions?\n",
    "\n",
    "we'll do that by visualizing __graphs__\n",
    "\n",
    "graphs?"
   ]
  },
  {
   "cell_type": "markdown",
   "metadata": {
    "slideshow": {
     "slide_type": "slide"
    }
   },
   "source": [
    "## graphs!\n",
    "\n",
    "#### what is a graph?\n",
    "\n",
    "data structure\n",
    "\n",
    "two types of elements: nodes and edges"
   ]
  },
  {
   "cell_type": "markdown",
   "metadata": {
    "slideshow": {
     "slide_type": "notes"
    }
   },
   "source": [
    "include an example of a very simple social network"
   ]
  },
  {
   "cell_type": "markdown",
   "metadata": {
    "slideshow": {
     "slide_type": "subslide"
    }
   },
   "source": [
    "#### what are graphs used for?\n",
    "represent social connections between people ..."
   ]
  },
  {
   "cell_type": "markdown",
   "metadata": {
    "slideshow": {
     "slide_type": "fragment"
    }
   },
   "source": [
    "... or represent networks\n",
    "e.g., road networks, computer networks"
   ]
  },
  {
   "cell_type": "markdown",
   "metadata": {
    "slideshow": {
     "slide_type": "slide"
    }
   },
   "source": [
    "## graphs with networkx\n",
    "\n",
    "* python library\n",
    "* create, process, visualize graphs\n",
    "* development started in 2004\n",
    "* mainly developed in 2014"
   ]
  },
  {
   "cell_type": "markdown",
   "metadata": {
    "slideshow": {
     "slide_type": "slide"
    }
   },
   "source": [
    "## building a graph"
   ]
  },
  {
   "cell_type": "code",
   "execution_count": 3,
   "metadata": {
    "collapsed": false,
    "slideshow": {
     "slide_type": "fragment"
    }
   },
   "outputs": [],
   "source": [
    "import networkx as nx\n",
    "\n",
    "# initialize\n",
    "graph = nx.Graph()\n",
    "\n",
    "people = ['jere', 'ella', 'miika', 'anniina', 'mikko']\n",
    "connections = [('jere', 'ella'), ('ella', 'anniina'), ('ella', 'miika'),\n",
    "                   ('mikko', 'ella'), ('anniina', 'mikko')]\n",
    "\n",
    "# add all nodes\n",
    "for node in people:\n",
    "    graph.add_node(node)\n",
    "\n",
    "# add all edges\n",
    "for node_a, node_b in connections:\n",
    "    graph.add_edge(node_a, node_b)\n"
   ]
  },
  {
   "cell_type": "markdown",
   "metadata": {
    "slideshow": {
     "slide_type": "slide"
    }
   },
   "source": [
    "## visualizing a graph"
   ]
  },
  {
   "cell_type": "code",
   "execution_count": 4,
   "metadata": {
    "collapsed": false,
    "slideshow": {
     "slide_type": "-"
    }
   },
   "outputs": [
    {
     "data": {
      "image/png": "[encoded data removed]",
      "text/plain": [
       "<matplotlib.figure.Figure at 0x10a662240>"
      ]
     },
     "metadata": {},
     "output_type": "display_data"
    }
   ],
   "source": [
    "import matplotlib.pyplot as plt\n",
    "fig, ax = plt.subplots(1, 1, figsize = (7, 7))\n",
    "ax.axis('off')\n",
    "\n",
    "nx.draw_networkx(graph, ax = ax)\n",
    "\n",
    "fig.savefig('img/friends.pdf', dpi = 300)"
   ]
  },
  {
   "cell_type": "markdown",
   "metadata": {
    "slideshow": {
     "slide_type": "subslide"
    }
   },
   "source": [
    "## add color to nodes"
   ]
  },
  {
   "cell_type": "code",
   "execution_count": 5,
   "metadata": {
    "collapsed": false,
    "slideshow": {
     "slide_type": "-"
    }
   },
   "outputs": [
    {
     "data": {
      "image/png": "[encoded data removed]",
      "text/plain": [
       "<matplotlib.figure.Figure at 0x10e6c0d30>"
      ]
     },
     "metadata": {},
     "output_type": "display_data"
    }
   ],
   "source": [
    "boy_color = 'blue'\n",
    "girl_color = 'orange'\n",
    "\n",
    "people = ['jere', 'ella', 'miika', 'anniina', 'mikko']\n",
    "colors = [boy_color, girl_color, boy_color, girl_color, boy_color]\n",
    "\n",
    "fig, ax = plt.subplots(1, 1, figsize = (7, 7))\n",
    "ax.axis('off');\n",
    "nx.draw_networkx(graph, ax = ax, node_color = colors);\n"
   ]
  },
  {
   "cell_type": "markdown",
   "metadata": {
    "slideshow": {
     "slide_type": "subslide"
    }
   },
   "source": [
    "## custom labels"
   ]
  },
  {
   "cell_type": "code",
   "execution_count": 6,
   "metadata": {
    "collapsed": false,
    "slideshow": {
     "slide_type": "-"
    }
   },
   "outputs": [
    {
     "data": {
      "image/png": "[encoded data removed]",
      "text/plain": [
       "<matplotlib.figure.Figure at 0x10e6dd208>"
      ]
     },
     "metadata": {},
     "output_type": "display_data"
    }
   ],
   "source": [
    "fig, ax = plt.subplots(1, 1, figsize = (7, 7))\n",
    "ax.axis('off')\n",
    "\n",
    "labels = {}\n",
    "for person in people:\n",
    "    labels[person] = person.upper()\n",
    "nx.draw_networkx(graph, labels = labels, ax = ax, node_color = colors);"
   ]
  },
  {
   "cell_type": "markdown",
   "metadata": {
    "slideshow": {
     "slide_type": "subslide"
    }
   },
   "source": [
    "## fixed node positions"
   ]
  },
  {
   "cell_type": "code",
   "execution_count": 7,
   "metadata": {
    "collapsed": false,
    "slideshow": {
     "slide_type": "-"
    }
   },
   "outputs": [
    {
     "data": {
      "image/png": "[encoded data removed]",
      "text/plain": [
       "<matplotlib.figure.Figure at 0x10e75d160>"
      ]
     },
     "metadata": {},
     "output_type": "display_data"
    }
   ],
   "source": [
    "pos = nx.layout.circular_layout(graph)\n",
    "\n",
    "fig, ax = plt.subplots(1, 2, figsize = (14, 6))\n",
    "left_plot = ax[0]\n",
    "right_plot = ax[1]\n",
    "left_plot.axis('off')\n",
    "right_plot.axis('off')\n",
    "\n",
    "nx.draw_networkx(graph, pos = pos, ax = left_plot)\n",
    "nx.draw_networkx(graph, pos = pos, ax = right_plot, node_color = colors)"
   ]
  },
  {
   "cell_type": "markdown",
   "metadata": {
    "slideshow": {
     "slide_type": "slide"
    }
   },
   "source": [
    "## analysis of a graph"
   ]
  },
  {
   "cell_type": "code",
   "execution_count": 8,
   "metadata": {
    "collapsed": false
   },
   "outputs": [
    {
     "name": "stdout",
     "output_type": "stream",
     "text": [
      "jere has 1 friends\n",
      "mikko has 2 friends\n",
      "miika has 1 friends\n",
      "anniina has 2 friends\n",
      "ella has 4 friends\n"
     ]
    }
   ],
   "source": [
    "number_of_friends = graph.degree()\n",
    "\n",
    "for person in number_of_friends:\n",
    "    print(\"{} has {} friends\".format(person, number_of_friends[person]))"
   ]
  },
  {
   "cell_type": "markdown",
   "metadata": {
    "slideshow": {
     "slide_type": "slide"
    }
   },
   "source": [
    "# back to twitter\n",
    "\n",
    "* the twitter data\n",
    "* retweets and replies"
   ]
  },
  {
   "cell_type": "markdown",
   "metadata": {
    "slideshow": {
     "slide_type": "slide"
    }
   },
   "source": [
    "# deeper: what happens when people disagree?\n",
    "\n",
    "* visualize discussions from controversial topics\n",
    "* use retweets"
   ]
  },
  {
   "cell_type": "markdown",
   "metadata": {
    "slideshow": {
     "slide_type": "slide"
    }
   },
   "source": [
    "## can we distinguish the two sides?\n",
    "\n",
    "* clustering!\n",
    "* spectral clustering from networkx\n",
    "* color the nodes based on the sides\n",
    "\n"
   ]
  },
  {
   "cell_type": "markdown",
   "metadata": {
    "slideshow": {
     "slide_type": "slide"
    }
   },
   "source": [
    "## are people so divided?\n",
    "\n",
    "* mention networks: people talk across sides"
   ]
  },
  {
   "cell_type": "markdown",
   "metadata": {
    "collapsed": true,
    "slideshow": {
     "slide_type": "slide"
    }
   },
   "source": [
    "# backup"
   ]
  },
  {
   "cell_type": "code",
   "execution_count": null,
   "metadata": {
    "collapsed": true
   },
   "outputs": [],
   "source": []
  }
 ],
 "metadata": {
  "anaconda-cloud": {},
  "celltoolbar": "Slideshow",
  "kernelspec": {
   "display_name": "Python [Root]",
   "language": "python",
   "name": "Python [Root]"
  },
  "language_info": {
   "codemirror_mode": {
    "name": "ipython",
    "version": 3
   },
   "file_extension": ".py",
   "mimetype": "text/x-python",
   "name": "python",
   "nbconvert_exporter": "python",
   "pygments_lexer": "ipython3",
   "version": "3.5.2"
  }
 },
 "nbformat": 4,
 "nbformat_minor": 0
}
