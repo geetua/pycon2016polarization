{
 "cells": [
  {
   "cell_type": "code",
   "execution_count": null,
   "metadata": {
    "collapsed": true,
    "slideshow": {
     "slide_type": "skip"
    }
   },
   "outputs": [],
   "source": [
    "# import IPython.display as display\n",
    "# from IPython.core.display import HTML "
   ]
  },
  {
   "cell_type": "code",
   "execution_count": null,
   "metadata": {
    "collapsed": true,
    "slideshow": {
     "slide_type": "skip"
    }
   },
   "outputs": [],
   "source": [
    "%matplotlib inline"
   ]
  },
  {
   "cell_type": "markdown",
   "metadata": {
    "slideshow": {
     "slide_type": "slide"
    }
   },
   "source": [
    "<img style=\"float: right;\", src='img/cover.jpg'/>\n",
    "\n",
    "# visualizing discussions on twitter with networkx\n",
    "\n",
    "* kiran garimella, aalto university\n",
    "* michael mathioudakis, aalto university\n",
    "\n",
    "\n"
   ]
  },
  {
   "cell_type": "markdown",
   "metadata": {
    "slideshow": {
     "slide_type": "slide"
    }
   },
   "source": [
    "## social media\n",
    "<img style='float: right; height:300px;' src='img/social_media.jpg'/>\n",
    "#### users generate digital content\n",
    "status updates, blog posts, pictures, videos, reviews, ...\n",
    "#### users interact\n",
    "comments, likes, ratings, re-posts\n",
    "#### digital traces\n",
    "we can observe human interactions at global scale"
   ]
  },
  {
   "cell_type": "markdown",
   "metadata": {
    "slideshow": {
     "slide_type": "slide"
    }
   },
   "source": [
    "<img style='float:right; width: 250px' src='img/twitter_logo.png'/>\n",
    "## twitter\n",
    "\n",
    "#### microblogging platform\n",
    "users post short messages, '__tweets__'\n",
    "\n",
    "#### since 2006, 300m + active users\n",
    "\n",
    "#### tweets, retweets, replies"
   ]
  },
  {
   "cell_type": "markdown",
   "metadata": {
    "slideshow": {
     "slide_type": "notes"
    }
   },
   "source": [
    "show examples of real tweets, retweets, and replies"
   ]
  },
  {
   "cell_type": "markdown",
   "metadata": {
    "slideshow": {
     "slide_type": "slide"
    }
   },
   "source": [
    "<img style='float:left; width:250px;' src='img/trump_tweet.png'>\n",
    "<img style='float:left; width:250px;' src='img/greenwald_tweet.png'>\n",
    "<img style='float:left; width:250px;' src='img/leme_tweet.png'>"
   ]
  },
  {
   "cell_type": "markdown",
   "metadata": {
    "slideshow": {
     "slide_type": "-"
    }
   },
   "source": [
    "can we learn something from the stucture of people's interactions?\n",
    "\n",
    "we'll do that by visualizing __graphs__\n",
    "\n",
    "graphs?"
   ]
  },
  {
   "cell_type": "markdown",
   "metadata": {
    "slideshow": {
     "slide_type": "slide"
    }
   },
   "source": [
    "## graphs!\n",
    "\n",
    "#### what is a graph?\n",
    "\n",
    "data structure\n",
    "\n",
    "two types of elements: nodes and edges"
   ]
  },
  {
   "cell_type": "markdown",
   "metadata": {
    "slideshow": {
     "slide_type": "notes"
    }
   },
   "source": [
    "__todo__ include an example of a very simple social network"
   ]
  },
  {
   "cell_type": "markdown",
   "metadata": {
    "slideshow": {
     "slide_type": "subslide"
    }
   },
   "source": [
    "#### what are graphs used for?\n",
    "represent social connections between people ..."
   ]
  },
  {
   "cell_type": "markdown",
   "metadata": {
    "slideshow": {
     "slide_type": "fragment"
    }
   },
   "source": [
    "... or represent networks\n",
    "e.g., road networks, computer networks\n",
    "\n",
    "graph vs network"
   ]
  },
  {
   "cell_type": "markdown",
   "metadata": {
    "slideshow": {
     "slide_type": "slide"
    }
   },
   "source": [
    "## graphs with networkx\n",
    "\n",
    "* python library\n",
    "* create, process, visualize graphs\n",
    "* development started in 2004\n",
    "* mainly developed in 2014"
   ]
  },
  {
   "cell_type": "markdown",
   "metadata": {
    "slideshow": {
     "slide_type": "slide"
    }
   },
   "source": [
    "## building a graph"
   ]
  },
  {
   "cell_type": "markdown",
   "metadata": {},
   "source": [
    "__todo__ say we want to build earlier example"
   ]
  },
  {
   "cell_type": "code",
   "execution_count": null,
   "metadata": {
    "collapsed": false,
    "slideshow": {
     "slide_type": "fragment"
    }
   },
   "outputs": [],
   "source": [
    "import networkx as nx\n",
    "\n",
    "# initialize\n",
    "graph = nx.Graph()\n",
    "\n",
    "people = ['jere', 'ella', 'miika', 'anniina', 'mikko', 'olli', 'laura', 'maria']\n",
    "connections = [('jere', 'ella'), ('ella', 'anniina'), ('ella', 'miika'),\n",
    "                   ('mikko', 'ella'), ('anniina', 'mikko'), ('laura', 'jere'),\n",
    "              ('olli', 'jere'), ('jere', 'maria'), ('miika', 'mikko'), ('maria', 'laura'),\n",
    "              ('olli', 'laura')]\n",
    "\n",
    "# add all nodes\n",
    "for node in people:\n",
    "    graph.add_node(node)\n",
    "\n",
    "# add all edges\n",
    "for node_a, node_b in connections:\n",
    "    graph.add_edge(node_a, node_b)\n"
   ]
  },
  {
   "cell_type": "markdown",
   "metadata": {
    "slideshow": {
     "slide_type": "slide"
    }
   },
   "source": [
    "## visualizing a graph"
   ]
  },
  {
   "cell_type": "code",
   "execution_count": null,
   "metadata": {
    "collapsed": false,
    "slideshow": {
     "slide_type": "-"
    }
   },
   "outputs": [],
   "source": [
    "import matplotlib.pyplot as plt\n",
    "fig, ax = plt.subplots(1, 1, figsize = (7, 7))\n",
    "ax.axis('off')\n",
    "\n",
    "nx.draw_networkx(graph, ax = ax)\n",
    "\n",
    "fig.savefig('img/friends.pdf', dpi = 300)"
   ]
  },
  {
   "cell_type": "markdown",
   "metadata": {
    "slideshow": {
     "slide_type": "subslide"
    }
   },
   "source": [
    "## add color to nodes"
   ]
  },
  {
   "cell_type": "code",
   "execution_count": null,
   "metadata": {
    "collapsed": false,
    "slideshow": {
     "slide_type": "-"
    }
   },
   "outputs": [],
   "source": [
    "boy_color = 'green'\n",
    "girl_color = 'orange'\n",
    "\n",
    "people = ['jere', 'ella', 'miika', 'anniina', 'mikko', 'olli', 'laura', 'maria']\n",
    "colors = [boy_color, girl_color, boy_color, girl_color, boy_color, boy_color,\n",
    "          girl_color, girl_color]\n",
    "\n",
    "fig, ax = plt.subplots(1, 1, figsize = (7, 7))\n",
    "ax.axis('off');\n",
    "nx.draw_networkx(graph, ax = ax, node_color = colors);\n"
   ]
  },
  {
   "cell_type": "markdown",
   "metadata": {
    "slideshow": {
     "slide_type": "subslide"
    }
   },
   "source": [
    "## custom labels"
   ]
  },
  {
   "cell_type": "code",
   "execution_count": null,
   "metadata": {
    "collapsed": false,
    "slideshow": {
     "slide_type": "-"
    }
   },
   "outputs": [],
   "source": [
    "fig, ax = plt.subplots(1, 1, figsize = (7, 7))\n",
    "ax.axis('off')\n",
    "\n",
    "labels = {}\n",
    "for person in people:\n",
    "    labels[person] = person.upper()\n",
    "nx.draw_networkx(graph, labels = labels, ax = ax, node_color = colors);"
   ]
  },
  {
   "cell_type": "markdown",
   "metadata": {
    "slideshow": {
     "slide_type": "subslide"
    }
   },
   "source": [
    "## fixed node positions"
   ]
  },
  {
   "cell_type": "code",
   "execution_count": null,
   "metadata": {
    "collapsed": false,
    "slideshow": {
     "slide_type": "-"
    }
   },
   "outputs": [],
   "source": [
    "pos = nx.layout.circular_layout(graph)\n",
    "\n",
    "fig, ax = plt.subplots(1, 2, figsize = (14, 6))\n",
    "left_plot = ax[0]\n",
    "right_plot = ax[1]\n",
    "left_plot.axis('off')\n",
    "right_plot.axis('off')\n",
    "\n",
    "nx.draw_networkx(graph, pos = pos, ax = left_plot)\n",
    "nx.draw_networkx(graph, pos = pos, ax = right_plot, node_color = colors)"
   ]
  },
  {
   "cell_type": "markdown",
   "metadata": {
    "slideshow": {
     "slide_type": "slide"
    }
   },
   "source": [
    "## analysis of a graph"
   ]
  },
  {
   "cell_type": "markdown",
   "metadata": {
    "slideshow": {
     "slide_type": "slide"
    }
   },
   "source": [
    "### degrees"
   ]
  },
  {
   "cell_type": "code",
   "execution_count": null,
   "metadata": {
    "collapsed": false,
    "slideshow": {
     "slide_type": "subslide"
    }
   },
   "outputs": [],
   "source": [
    "number_of_friends = graph.degree()\n",
    "\n",
    "for person in number_of_friends:\n",
    "    print(\"{} has {} friends\".format(person, number_of_friends[person]))"
   ]
  },
  {
   "cell_type": "markdown",
   "metadata": {
    "slideshow": {
     "slide_type": "subslide"
    }
   },
   "source": [
    "### clustering"
   ]
  },
  {
   "cell_type": "code",
   "execution_count": null,
   "metadata": {
    "collapsed": true
   },
   "outputs": [],
   "source": [
    "import sys\n",
    "import numpy as np\n",
    "import networkx as nx\n",
    "import matplotlib.pyplot as plt\n",
    "import sklearn.cluster as cluster\n",
    "import sklearn.manifold as manifold\n",
    "import scipy.sparse as sp\n",
    "\n",
    "SEED = 1\n",
    "\n",
    "def spectral_clusters(g, n_clusters):\n",
    "    spectral_clustering = cluster.SpectralClustering(n_clusters = n_clusters,\n",
    "                                affinity = 'precomputed',\n",
    "                                random_state = SEED)\n",
    "    \n",
    "    X = make_dense_adj_matrix(get_canonical(g))\n",
    "    labels = spectral_clustering.fit_predict(X)\n",
    "    return labels\n",
    "\n",
    "def make_sparse_adj_matrix(g):\n",
    "    \"\"\"\n",
    "    g: networkx.Graph()\n",
    "    \n",
    "    return adjacency matrix in scipy.csr sparse format\n",
    "    \"\"\"\n",
    "    rows = []\n",
    "    columns = []\n",
    "    it = g.adjacency_iter()\n",
    "    for adj_list in it:\n",
    "        u = adj_list[0]\n",
    "        for v in adj_list[1].keys():\n",
    "            rows.append(u)\n",
    "            columns.append(v)\n",
    "    data = np.ones(len(rows))\n",
    "    X = sp.csr_matrix((data, (rows, columns)))\n",
    "    assert(is_symmetric(X))\n",
    "    return X\n",
    "\n",
    "def get_canonical(g):\n",
    "    \"\"\"\n",
    "    Parameters\n",
    "    ----------\n",
    "    g: undirected graph (networkx.Graph)\n",
    "    \n",
    "    Return\n",
    "    ------\n",
    "    A canonical version of the input graph.\n",
    "    \"\"\"\n",
    "    canonical =  nx.Graph()\n",
    "    node_inv_idx = dict([(u, i) for i, u in enumerate(g.nodes())])\n",
    "    edge_set = g.edges(data = True)\n",
    "    for (u, v, d) in edge_set:\n",
    "        i = node_inv_idx[u]\n",
    "        j = node_inv_idx[v]\n",
    "        canonical.add_edge(i, j, d)\n",
    "    return canonical\n",
    "\n",
    "def make_dense_adj_matrix(g):\n",
    "    \"\"\"\n",
    "    g: networkx.Graph()\n",
    "    \n",
    "    return adjacency (nodes x nodes) matrix\n",
    "    \"\"\"\n",
    "    X = np.matrix(np.zeros((len(g), len(g))))\n",
    "    it = g.adjacency_iter()\n",
    "    for adj_list in it:\n",
    "        u = adj_list[0]\n",
    "        for v in adj_list[1].keys():\n",
    "            X[u, v] = 1\n",
    "    assert(is_symmetric(X))\n",
    "    return X\n",
    "\n",
    "def is_symmetric(M):\n",
    "    xdim, ydim = M.shape\n",
    "    for x in range(xdim):\n",
    "        for y in range(ydim):\n",
    "            if M[x,y] != M[y,x]:\n",
    "                return False\n",
    "    return True"
   ]
  },
  {
   "cell_type": "code",
   "execution_count": null,
   "metadata": {
    "collapsed": false
   },
   "outputs": [],
   "source": [
    "partition = spectral_clusters(graph, 2)"
   ]
  },
  {
   "cell_type": "code",
   "execution_count": null,
   "metadata": {
    "collapsed": false
   },
   "outputs": [],
   "source": [
    "partition"
   ]
  },
  {
   "cell_type": "code",
   "execution_count": null,
   "metadata": {
    "collapsed": false
   },
   "outputs": [],
   "source": [
    "import community\n",
    "\n",
    "partition = community.best_partition(graph)\n",
    "\n",
    "group_colors = []\n",
    "for name in graph.nodes_iter():\n",
    "    side = partition[name]\n",
    "    color = 'blue' if side == 1 else 'grey'\n",
    "    group_colors.append(color)"
   ]
  },
  {
   "cell_type": "code",
   "execution_count": null,
   "metadata": {
    "collapsed": false,
    "slideshow": {
     "slide_type": "fragment"
    }
   },
   "outputs": [],
   "source": [
    "fig, ax = plt.subplots(1, 1, figsize = (7, 7))\n",
    "ax.axis('off')\n",
    "\n",
    "\n",
    "nx.draw_networkx(graph, ax = ax, node_color = group_colors);"
   ]
  },
  {
   "cell_type": "markdown",
   "metadata": {
    "slideshow": {
     "slide_type": "slide"
    }
   },
   "source": [
    "# back to twitter\n",
    "\n",
    "* the twitter data\n",
    "* retweets and replies"
   ]
  },
  {
   "cell_type": "markdown",
   "metadata": {
    "slideshow": {
     "slide_type": "subslide"
    }
   },
   "source": [
    "### dataset"
   ]
  },
  {
   "cell_type": "code",
   "execution_count": null,
   "metadata": {
    "collapsed": true
   },
   "outputs": [],
   "source": []
  },
  {
   "cell_type": "markdown",
   "metadata": {
    "slideshow": {
     "slide_type": "notes"
    }
   },
   "source": [
    "__todo__ show actual data"
   ]
  },
  {
   "cell_type": "markdown",
   "metadata": {
    "slideshow": {
     "slide_type": "subslide"
    }
   },
   "source": [
    "### building graph"
   ]
  },
  {
   "cell_type": "markdown",
   "metadata": {
    "slideshow": {
     "slide_type": "subslide"
    }
   },
   "source": [
    "### visualizations"
   ]
  },
  {
   "cell_type": "markdown",
   "metadata": {
    "slideshow": {
     "slide_type": "slide"
    }
   },
   "source": [
    "# deeper: what happens when people disagree?\n",
    "\n",
    "* we notice a difference...\n",
    "* let's make it more pronounced"
   ]
  },
  {
   "cell_type": "markdown",
   "metadata": {
    "slideshow": {
     "slide_type": "subslide"
    }
   },
   "source": [
    "### clustering"
   ]
  },
  {
   "cell_type": "markdown",
   "metadata": {
    "slideshow": {
     "slide_type": "subslide"
    }
   },
   "source": [
    "### visualize with clusters"
   ]
  },
  {
   "cell_type": "markdown",
   "metadata": {
    "slideshow": {
     "slide_type": "slide"
    }
   },
   "source": [
    "# reply networks\n",
    "\n"
   ]
  },
  {
   "cell_type": "markdown",
   "metadata": {
    "slideshow": {
     "slide_type": "slide"
    }
   },
   "source": [
    "# summary"
   ]
  },
  {
   "cell_type": "markdown",
   "metadata": {
    "collapsed": true,
    "slideshow": {
     "slide_type": "slide"
    }
   },
   "source": [
    "# backup"
   ]
  },
  {
   "cell_type": "code",
   "execution_count": null,
   "metadata": {
    "collapsed": true
   },
   "outputs": [],
   "source": []
  }
 ],
 "metadata": {
  "anaconda-cloud": {},
  "celltoolbar": "Slideshow",
  "kernelspec": {
   "display_name": "Python [Root]",
   "language": "python",
   "name": "Python [Root]"
  },
  "language_info": {
   "codemirror_mode": {
    "name": "ipython",
    "version": 3
   },
   "file_extension": ".py",
   "mimetype": "text/x-python",
   "name": "python",
   "nbconvert_exporter": "python",
   "pygments_lexer": "ipython3",
   "version": "3.5.2"
  }
 },
 "nbformat": 4,
 "nbformat_minor": 0
}
